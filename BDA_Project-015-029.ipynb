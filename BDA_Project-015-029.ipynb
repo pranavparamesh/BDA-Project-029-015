{
  "nbformat": 4,
  "nbformat_minor": 0,
  "metadata": {
    "colab": {
      "name": "Untitled9.ipynb",
      "provenance": []
    },
    "kernelspec": {
      "name": "python3",
      "display_name": "Python 3"
    },
    "language_info": {
      "name": "python"
    }
  },
  "cells": [
    {
      "cell_type": "code",
      "execution_count": 1,
      "metadata": {
        "colab": {
          "base_uri": "https://localhost:8080/"
        },
        "id": "iFg2VKDAjmwG",
        "outputId": "f15a52a7-55a6-46bc-bbd5-e9cd9f1585e2"
      },
      "outputs": [
        {
          "output_type": "stream",
          "name": "stdout",
          "text": [
            "Looking in indexes: https://pypi.org/simple, https://us-python.pkg.dev/colab-wheels/public/simple/\n",
            "Collecting pyspark\n",
            "  Downloading pyspark-3.3.0.tar.gz (281.3 MB)\n",
            "\u001b[K     |████████████████████████████████| 281.3 MB 44 kB/s \n",
            "\u001b[?25hCollecting py4j==0.10.9.5\n",
            "  Downloading py4j-0.10.9.5-py2.py3-none-any.whl (199 kB)\n",
            "\u001b[K     |████████████████████████████████| 199 kB 45.8 MB/s \n",
            "\u001b[?25hBuilding wheels for collected packages: pyspark\n",
            "  Building wheel for pyspark (setup.py) ... \u001b[?25l\u001b[?25hdone\n",
            "  Created wheel for pyspark: filename=pyspark-3.3.0-py2.py3-none-any.whl size=281764026 sha256=3fdf1b0d9a3618ebfbe0f059cc596c59424528cd61da17c08431cc0d8ce249cc\n",
            "  Stored in directory: /root/.cache/pip/wheels/7a/8e/1b/f73a52650d2e5f337708d9f6a1750d451a7349a867f928b885\n",
            "Successfully built pyspark\n",
            "Installing collected packages: py4j, pyspark\n",
            "Successfully installed py4j-0.10.9.5 pyspark-3.3.0\n"
          ]
        }
      ],
      "source": [
        "pip install pyspark"
      ]
    },
    {
      "cell_type": "code",
      "source": [
        "import pyspark\n",
        "from pyspark import SparkContext\n",
        "\n",
        "sc = SparkContext(master=\"local[2]\")"
      ],
      "metadata": {
        "id": "qRkCzXZojovt"
      },
      "execution_count": 2,
      "outputs": []
    },
    {
      "cell_type": "code",
      "source": [
        "from pyspark.sql.functions import col\n",
        "from pyspark.sql import SparkSession"
      ],
      "metadata": {
        "id": "aG2A04dCjzTM"
      },
      "execution_count": 3,
      "outputs": []
    },
    {
      "cell_type": "code",
      "source": [
        "spark = SparkSession.builder.appName(\"BDAMiniProject\").getOrCreate()"
      ],
      "metadata": {
        "id": "eGLXLlqJkms_"
      },
      "execution_count": 4,
      "outputs": []
    },
    {
      "cell_type": "code",
      "source": [
        "import pandas \n",
        "from pyspark.sql.functions import * \n",
        "from pyspark.ml import Pipeline \n",
        "from pyspark.ml.feature import VectorAssembler \n",
        "from pyspark.ml.feature import StringIndexer \n",
        "from pyspark.ml.classification import NaiveBayes \n",
        "from pyspark.ml.evaluation import MulticlassClassificationEvaluator\n",
        "from sklearn.metrics import confusion_matrix"
      ],
      "metadata": {
        "id": "unS7ak6tkyHb"
      },
      "execution_count": 5,
      "outputs": []
    },
    {
      "cell_type": "code",
      "source": [
        "data = spark.read.csv(\"/train.csv\",header=True)"
      ],
      "metadata": {
        "id": "Rc_kPPWDk5Wz"
      },
      "execution_count": 8,
      "outputs": []
    },
    {
      "cell_type": "code",
      "source": [
        "data.head(5)"
      ],
      "metadata": {
        "colab": {
          "base_uri": "https://localhost:8080/"
        },
        "id": "KxpZdEhhlBGO",
        "outputId": "bef710d8-7af8-4715-8466-c0aab5eec656"
      },
      "execution_count": 9,
      "outputs": [
        {
          "output_type": "execute_result",
          "data": {
            "text/plain": [
              "[Row(Dates='2015-05-13 23:53:00', Category='WARRANTS', Descript='WARRANT ARREST', DayOfWeek='Wednesday', PdDistrict='NORTHERN', Resolution='ARREST, BOOKED', Address='OAK ST / LAGUNA ST', X='-122.425891675136', Y='37.7745985956747'),\n",
              " Row(Dates='2015-05-13 23:53:00', Category='OTHER OFFENSES', Descript='TRAFFIC VIOLATION ARREST', DayOfWeek='Wednesday', PdDistrict='NORTHERN', Resolution='ARREST, BOOKED', Address='OAK ST / LAGUNA ST', X='-122.425891675136', Y='37.7745985956747'),\n",
              " Row(Dates='2015-05-13 23:33:00', Category='OTHER OFFENSES', Descript='TRAFFIC VIOLATION ARREST', DayOfWeek='Wednesday', PdDistrict='NORTHERN', Resolution='ARREST, BOOKED', Address='VANNESS AV / GREENWICH ST', X='-122.42436302145', Y='37.8004143219856'),\n",
              " Row(Dates='2015-05-13 23:30:00', Category='LARCENY/THEFT', Descript='GRAND THEFT FROM LOCKED AUTO', DayOfWeek='Wednesday', PdDistrict='NORTHERN', Resolution='NONE', Address='1500 Block of LOMBARD ST', X='-122.42699532676599', Y='37.80087263276921'),\n",
              " Row(Dates='2015-05-13 23:30:00', Category='LARCENY/THEFT', Descript='GRAND THEFT FROM LOCKED AUTO', DayOfWeek='Wednesday', PdDistrict='PARK', Resolution='NONE', Address='100 Block of BRODERICK ST', X='-122.438737622757', Y='37.771541172057795')]"
            ]
          },
          "metadata": {},
          "execution_count": 9
        }
      ]
    },
    {
      "cell_type": "code",
      "source": [
        "import matplotlib.pyplot as plt\n",
        "import seaborn as sns"
      ],
      "metadata": {
        "id": "ecka6y-Vlj_Y"
      },
      "execution_count": 10,
      "outputs": []
    },
    {
      "cell_type": "code",
      "source": [
        "from pyspark.sql.functions import desc,col\n",
        "Category=data.groupBy(data['Category']).count().orderBy(desc(\"count\")).limit(10).toPandas()\n",
        "plt.clf()\n",
        "sns.barplot(x=\"Category\", y=\"count\", data=Category)\n",
        "plt.title('Number of crimes per category')\n",
        "plt.xlabel('Category')\n",
        "plt.xticks(rotation=30)\n",
        "plt.ylabel('Number of crimes')\n",
        "plt.show()"
      ],
      "metadata": {
        "colab": {
          "base_uri": "https://localhost:8080/",
          "height": 339
        },
        "id": "DSkg7dzDlpio",
        "outputId": "8a83eed4-1fa3-4038-8fa7-b19426b703ae"
      },
      "execution_count": 11,
      "outputs": [
        {
          "output_type": "display_data",
          "data": {
            "text/plain": [
              "<Figure size 432x288 with 1 Axes>"
            ],
            "image/png": "[encoded data removed]"
          },
          "metadata": {
            "needs_background": "light"
          }
        }
      ]
    },
    {
      "cell_type": "code",
      "source": [
        "District=data.groupBy(data['PdDistrict']).count().orderBy(desc(\"count\")).toPandas()\n",
        "plt.clf()\n",
        "sns.barplot(x=\"PdDistrict\", y=\"count\", data=District)\n",
        "plt.title('Number of crimes per district')\n",
        "plt.xlabel('Distirct')\n",
        "plt.xticks(rotation=30)\n",
        "plt.ylabel('Number of crimes')\n",
        "plt.show()"
      ],
      "metadata": {
        "colab": {
          "base_uri": "https://localhost:8080/",
          "height": 326
        },
        "id": "9R4EsyuEl6fb",
        "outputId": "a21db332-3f58-4ed6-d2ee-22d21e302d12"
      },
      "execution_count": 12,
      "outputs": [
        {
          "output_type": "display_data",
          "data": {
            "text/plain": [
              "<Figure size 432x288 with 1 Axes>"
            ],
            "image/png": "[encoded data removed]"
          },
          "metadata": {
            "needs_background": "light"
          }
        }
      ]
    },
    {
      "cell_type": "code",
      "source": [
        "data.columns"
      ],
      "metadata": {
        "colab": {
          "base_uri": "https://localhost:8080/"
        },
        "id": "CPg78PusnBeq",
        "outputId": "fc041946-aee3-4adb-b5b3-d153024d7bc2"
      },
      "execution_count": 13,
      "outputs": [
        {
          "output_type": "execute_result",
          "data": {
            "text/plain": [
              "['Dates',\n",
              " 'Category',\n",
              " 'Descript',\n",
              " 'DayOfWeek',\n",
              " 'PdDistrict',\n",
              " 'Resolution',\n",
              " 'Address',\n",
              " 'X',\n",
              " 'Y']"
            ]
          },
          "metadata": {},
          "execution_count": 13
        }
      ]
    },
    {
      "cell_type": "code",
      "source": [
        "from pyspark.sql.functions import isnull, when, count\n"
      ],
      "metadata": {
        "id": "GxIE4W7LnJMN"
      },
      "execution_count": 14,
      "outputs": []
    },
    {
      "cell_type": "code",
      "source": [
        "data.select([count(when(isnull(c), c)).alias(c) for c in data.columns]).show()"
      ],
      "metadata": {
        "colab": {
          "base_uri": "https://localhost:8080/"
        },
        "id": "T7hpoVtRnUCf",
        "outputId": "bf4d521e-8394-4326-b1d3-2deb871816e5"
      },
      "execution_count": 15,
      "outputs": [
        {
          "output_type": "stream",
          "name": "stdout",
          "text": [
            "+-----+--------+--------+---------+----------+----------+-------+---+---+\n",
            "|Dates|Category|Descript|DayOfWeek|PdDistrict|Resolution|Address|  X|  Y|\n",
            "+-----+--------+--------+---------+----------+----------+-------+---+---+\n",
            "|    0|       0|       0|        0|         0|         0|      0|  0|  0|\n",
            "+-----+--------+--------+---------+----------+----------+-------+---+---+\n",
            "\n"
          ]
        }
      ]
    },
    {
      "cell_type": "code",
      "source": [
        "data=data.drop(\"Descript\")\n"
      ],
      "metadata": {
        "id": "-31cCpBinZl2"
      },
      "execution_count": 16,
      "outputs": []
    },
    {
      "cell_type": "code",
      "source": [
        "data.show(5)"
      ],
      "metadata": {
        "colab": {
          "base_uri": "https://localhost:8080/"
        },
        "id": "_JGxSqGxnrlV",
        "outputId": "97c8659d-cc72-4c07-eb55-f2c5607318b4"
      },
      "execution_count": 17,
      "outputs": [
        {
          "output_type": "stream",
          "name": "stdout",
          "text": [
            "+-------------------+--------------+---------+----------+--------------+--------------------+-------------------+------------------+\n",
            "|              Dates|      Category|DayOfWeek|PdDistrict|    Resolution|             Address|                  X|                 Y|\n",
            "+-------------------+--------------+---------+----------+--------------+--------------------+-------------------+------------------+\n",
            "|2015-05-13 23:53:00|      WARRANTS|Wednesday|  NORTHERN|ARREST, BOOKED|  OAK ST / LAGUNA ST|  -122.425891675136|  37.7745985956747|\n",
            "|2015-05-13 23:53:00|OTHER OFFENSES|Wednesday|  NORTHERN|ARREST, BOOKED|  OAK ST / LAGUNA ST|  -122.425891675136|  37.7745985956747|\n",
            "|2015-05-13 23:33:00|OTHER OFFENSES|Wednesday|  NORTHERN|ARREST, BOOKED|VANNESS AV / GREE...|   -122.42436302145|  37.8004143219856|\n",
            "|2015-05-13 23:30:00| LARCENY/THEFT|Wednesday|  NORTHERN|          NONE|1500 Block of LOM...|-122.42699532676599| 37.80087263276921|\n",
            "|2015-05-13 23:30:00| LARCENY/THEFT|Wednesday|      PARK|          NONE|100 Block of BROD...|  -122.438737622757|37.771541172057795|\n",
            "+-------------------+--------------+---------+----------+--------------+--------------------+-------------------+------------------+\n",
            "only showing top 5 rows\n",
            "\n"
          ]
        }
      ]
    },
    {
      "cell_type": "code",
      "source": [
        "data=data.drop(\"Address\")"
      ],
      "metadata": {
        "id": "y461bzGEnuMT"
      },
      "execution_count": 18,
      "outputs": []
    },
    {
      "cell_type": "code",
      "source": [
        "data.show(5)"
      ],
      "metadata": {
        "colab": {
          "base_uri": "https://localhost:8080/"
        },
        "id": "QC_Mnsx0n6C4",
        "outputId": "54840c46-cf01-4ba2-bbc4-c458604b9290"
      },
      "execution_count": 19,
      "outputs": [
        {
          "output_type": "stream",
          "name": "stdout",
          "text": [
            "+-------------------+--------------+---------+----------+--------------+-------------------+------------------+\n",
            "|              Dates|      Category|DayOfWeek|PdDistrict|    Resolution|                  X|                 Y|\n",
            "+-------------------+--------------+---------+----------+--------------+-------------------+------------------+\n",
            "|2015-05-13 23:53:00|      WARRANTS|Wednesday|  NORTHERN|ARREST, BOOKED|  -122.425891675136|  37.7745985956747|\n",
            "|2015-05-13 23:53:00|OTHER OFFENSES|Wednesday|  NORTHERN|ARREST, BOOKED|  -122.425891675136|  37.7745985956747|\n",
            "|2015-05-13 23:33:00|OTHER OFFENSES|Wednesday|  NORTHERN|ARREST, BOOKED|   -122.42436302145|  37.8004143219856|\n",
            "|2015-05-13 23:30:00| LARCENY/THEFT|Wednesday|  NORTHERN|          NONE|-122.42699532676599| 37.80087263276921|\n",
            "|2015-05-13 23:30:00| LARCENY/THEFT|Wednesday|      PARK|          NONE|  -122.438737622757|37.771541172057795|\n",
            "+-------------------+--------------+---------+----------+--------------+-------------------+------------------+\n",
            "only showing top 5 rows\n",
            "\n"
          ]
        }
      ]
    },
    {
      "cell_type": "code",
      "source": [
        "data.select('Category','DayOfWeek','PdDistrict','Resolution','X','Y').distinct().show()"
      ],
      "metadata": {
        "colab": {
          "base_uri": "https://localhost:8080/"
        },
        "id": "DTagTTlPn8f7",
        "outputId": "a1508f92-5451-40ae-a2d9-0dfb84d1b99c"
      },
      "execution_count": 21,
      "outputs": [
        {
          "output_type": "stream",
          "name": "stdout",
          "text": [
            "+--------------+---------+----------+--------------+-------------------+------------------+\n",
            "|      Category|DayOfWeek|PdDistrict|    Resolution|                  X|                 Y|\n",
            "+--------------+---------+----------+--------------+-------------------+------------------+\n",
            "|OTHER OFFENSES|Wednesday| INGLESIDE| ARREST, CITED|  -122.416824272035| 37.73488851562411|\n",
            "| LARCENY/THEFT|  Tuesday|  SOUTHERN|          NONE|  -122.411071423064|  37.7817511307229|\n",
            "| VEHICLE THEFT|   Monday|   TARAVAL|          NONE|  -122.466196824742|  37.7142802754796|\n",
            "| LARCENY/THEFT|   Monday|  SOUTHERN|          NONE|-122.41127918996901|  37.7715785765043|\n",
            "|  PROSTITUTION|   Monday|   BAYVIEW|          NONE|  -122.397744427103|  37.7299346936044|\n",
            "|  NON-CRIMINAL|Wednesday|   CENTRAL|          NONE|  -122.407008625662|  37.7996968891966|\n",
            "| VEHICLE THEFT|  Tuesday| INGLESIDE|          NONE|-122.42052630907801|37.744725471365705|\n",
            "|     VANDALISM|  Tuesday| INGLESIDE|          NONE|   -122.44976890956|  37.7414340370897|\n",
            "|       ASSAULT|  Tuesday|  SOUTHERN|ARREST, BOOKED|-122.41133956255699|  37.7812707434494|\n",
            "|   WEAPON LAWS|   Monday|   BAYVIEW|ARREST, BOOKED|  -122.386594164927|  37.7278183430085|\n",
            "| LARCENY/THEFT|Wednesday|  RICHMOND|          NONE|  -122.465208704996| 37.77261005009071|\n",
            "|  NON-CRIMINAL|Wednesday|  RICHMOND|          NONE|  -122.484873334981|  37.7820231786465|\n",
            "|MISSING PERSON|  Tuesday|   MISSION|          NONE|  -122.411093822635|  37.7610475742041|\n",
            "|  NON-CRIMINAL|   Monday|   CENTRAL|          NONE|-122.40979166229299|  37.7985083480435|\n",
            "|      BURGLARY|   Monday| INGLESIDE|          NONE|  -122.445719575936| 37.73640214798711|\n",
            "|      WARRANTS|Wednesday|  NORTHERN|ARREST, BOOKED|  -122.425891675136|  37.7745985956747|\n",
            "| LARCENY/THEFT|Wednesday|  SOUTHERN|ARREST, BOOKED|-122.40340479147899|   37.775420706711|\n",
            "|  NON-CRIMINAL|Wednesday|   MISSION|          NONE|  -122.426955631709|37.769247063207004|\n",
            "|OTHER OFFENSES|  Tuesday|   TARAVAL|          NONE|  -122.466654417113|  37.7142216417375|\n",
            "|       ASSAULT|  Tuesday|   CENTRAL|          NONE|  -122.415654629547|  37.7864672409674|\n",
            "+--------------+---------+----------+--------------+-------------------+------------------+\n",
            "only showing top 20 rows\n",
            "\n"
          ]
        }
      ]
    },
    {
      "cell_type": "code",
      "source": [
        "data1 = data.select(col('DayOfWeek'),\n",
        "                         col('DayOfWeek'),\n",
        "                         col('PdDistrict'),\n",
        "                         col('Resolution'),\n",
        "                         col('X').cast('float'),\n",
        "                         col('Y').cast('float'),\n",
        "                        col('Category'),\n",
        "                        )"
      ],
      "metadata": {
        "id": "KxhSoIs7pKmE"
      },
      "execution_count": 22,
      "outputs": []
    },
    {
      "cell_type": "code",
      "source": [
        "required_features = [\n",
        "                     'DayOfWeek1',\n",
        "                    'X1',\n",
        "                    'Y1',\n",
        "                    'PdDistrict1',\n",
        "                    'Resolution1',\n",
        "\n",
        "                     'Category1']"
      ],
      "metadata": {
        "id": "aLF19T-Nq4oN"
      },
      "execution_count": 23,
      "outputs": []
    },
    {
      "cell_type": "code",
      "source": [
        "data1 = StringIndexer(\n",
        "    inputCol='DayOfWeek', \n",
        "    outputCol='DayOfWeek1', \n",
        "    handleInvalid='keep').fit(data1).transform(data1)\n",
        "data1 = StringIndexer(\n",
        "    inputCol='PdDistrict', \n",
        "    outputCol='PdDistrict1', \n",
        "    handleInvalid='keep').fit(data1).transform(data1)\n",
        "data1 = StringIndexer(\n",
        "    inputCol='Resolution', \n",
        "    outputCol='Resolution1', \n",
        "    handleInvalid='keep').fit(data1).transform(data1)\n",
        "data1 = StringIndexer(\n",
        "    inputCol='X', \n",
        "    outputCol='X1', \n",
        "    handleInvalid='keep').fit(data1).transform(data1)\n",
        "data1 = StringIndexer(\n",
        "    inputCol='Y', \n",
        "    outputCol='Y1', \n",
        "    handleInvalid='keep').fit(data1).transform(data1)\n"
      ],
      "metadata": {
        "id": "FuQahCmkswkU"
      },
      "execution_count": 24,
      "outputs": []
    },
    {
      "cell_type": "code",
      "source": [
        "data1.dtypes"
      ],
      "metadata": {
        "colab": {
          "base_uri": "https://localhost:8080/"
        },
        "id": "_-yJlJHntq71",
        "outputId": "b5f42b80-97f0-4c8f-9e7e-1db64e8078c1"
      },
      "execution_count": 25,
      "outputs": [
        {
          "output_type": "execute_result",
          "data": {
            "text/plain": [
              "[('DayOfWeek', 'string'),\n",
              " ('DayOfWeek', 'string'),\n",
              " ('PdDistrict', 'string'),\n",
              " ('Resolution', 'string'),\n",
              " ('X', 'float'),\n",
              " ('Y', 'float'),\n",
              " ('Category', 'string'),\n",
              " ('DayOfWeek1', 'double'),\n",
              " ('PdDistrict1', 'double'),\n",
              " ('Resolution1', 'double'),\n",
              " ('X1', 'double'),\n",
              " ('Y1', 'double')]"
            ]
          },
          "metadata": {},
          "execution_count": 25
        }
      ]
    },
    {
      "cell_type": "code",
      "source": [
        "vectorAssembler = VectorAssembler(inputCols = required_features,outputCol = \"features\")"
      ],
      "metadata": {
        "id": "CKc9OaertxB0"
      },
      "execution_count": 26,
      "outputs": []
    },
    {
      "cell_type": "code",
      "source": [
        "data1 = StringIndexer(\n",
        "    inputCol='Category', \n",
        "    outputCol='Category1', \n",
        "    handleInvalid='keep').fit(data1).transform(data1)"
      ],
      "metadata": {
        "id": "wn-Zi7mOuwi-"
      },
      "execution_count": 28,
      "outputs": []
    },
    {
      "cell_type": "code",
      "source": [
        "vindexed_train_df = vectorAssembler.transform(data1)\n",
        "vindexed_train_df.show(3)"
      ],
      "metadata": {
        "colab": {
          "base_uri": "https://localhost:8080/"
        },
        "id": "14hxX84RuDWU",
        "outputId": "a55198ed-0de5-4d89-e944-be6dce83b45f"
      },
      "execution_count": 29,
      "outputs": [
        {
          "output_type": "stream",
          "name": "stdout",
          "text": [
            "+---------+---------+----------+--------------+----------+---------+--------------+----------+-----------+-----------+-----+-----+---------+--------------------+\n",
            "|DayOfWeek|DayOfWeek|PdDistrict|    Resolution|         X|        Y|      Category|DayOfWeek1|PdDistrict1|Resolution1|   X1|   Y1|Category1|            features|\n",
            "+---------+---------+----------+--------------+----------+---------+--------------+----------+-----------+-----------+-----+-----+---------+--------------------+\n",
            "|Wednesday|Wednesday|  NORTHERN|ARREST, BOOKED|-122.42589|37.774597|      WARRANTS|       0.0|        4.0|        1.0|146.0|122.0|      7.0|[0.0,146.0,122.0,...|\n",
            "|Wednesday|Wednesday|  NORTHERN|ARREST, BOOKED|-122.42589|37.774597|OTHER OFFENSES|       0.0|        4.0|        1.0|146.0|122.0|      1.0|[0.0,146.0,122.0,...|\n",
            "|Wednesday|Wednesday|  NORTHERN|ARREST, BOOKED|-122.42436|37.800415|OTHER OFFENSES|       0.0|        4.0|        1.0|469.0|666.0|      1.0|[0.0,469.0,666.0,...|\n",
            "+---------+---------+----------+--------------+----------+---------+--------------+----------+-----------+-----------+-----+-----+---------+--------------------+\n",
            "only showing top 3 rows\n",
            "\n"
          ]
        }
      ]
    },
    {
      "cell_type": "code",
      "source": [
        "splits = vindexed_train_df.randomSplit([0.7,0.3],42)\n",
        "train_df = splits[0]\n",
        "test_df = splits[1]"
      ],
      "metadata": {
        "id": "1GOotVy7ulWE"
      },
      "execution_count": 30,
      "outputs": []
    },
    {
      "cell_type": "code",
      "source": [
        "nb = NaiveBayes(modelType=\"multinomial\")\n",
        "nbmodel = nb.fit(vindexed_train_df)"
      ],
      "metadata": {
        "colab": {
          "base_uri": "https://localhost:8080/",
          "height": 357
        },
        "id": "MZlE6TB1vFxw",
        "outputId": "f5b4a113-8874-4c6a-8557-b8cb259a5c81"
      },
      "execution_count": 32,
      "outputs": [
        {
          "output_type": "error",
          "ename": "IllegalArgumentException",
          "evalue": "ignored",
          "traceback": [
            "\u001b[0;31m---------------------------------------------------------------------------\u001b[0m",
            "\u001b[0;31mIllegalArgumentException\u001b[0m                  Traceback (most recent call last)",
            "\u001b[0;32m<ipython-input-32-487c0bd3c98f>\u001b[0m in \u001b[0;36m<module>\u001b[0;34m\u001b[0m\n\u001b[1;32m      1\u001b[0m \u001b[0mnb\u001b[0m \u001b[0;34m=\u001b[0m \u001b[0mNaiveBayes\u001b[0m\u001b[0;34m(\u001b[0m\u001b[0mmodelType\u001b[0m\u001b[0;34m=\u001b[0m\u001b[0;34m\"multinomial\"\u001b[0m\u001b[0;34m)\u001b[0m\u001b[0;34m\u001b[0m\u001b[0;34m\u001b[0m\u001b[0m\n\u001b[0;32m----> 2\u001b[0;31m \u001b[0mnbmodel\u001b[0m \u001b[0;34m=\u001b[0m \u001b[0mnb\u001b[0m\u001b[0;34m.\u001b[0m\u001b[0mfit\u001b[0m\u001b[0;34m(\u001b[0m\u001b[0mvindexed_train_df\u001b[0m\u001b[0;34m)\u001b[0m\u001b[0;34m\u001b[0m\u001b[0;34m\u001b[0m\u001b[0m\n\u001b[0m",
            "\u001b[0;32m/usr/local/lib/python3.7/dist-packages/pyspark/ml/base.py\u001b[0m in \u001b[0;36mfit\u001b[0;34m(self, dataset, params)\u001b[0m\n\u001b[1;32m    203\u001b[0m                 \u001b[0;32mreturn\u001b[0m \u001b[0mself\u001b[0m\u001b[0;34m.\u001b[0m\u001b[0mcopy\u001b[0m\u001b[0;34m(\u001b[0m\u001b[0mparams\u001b[0m\u001b[0;34m)\u001b[0m\u001b[0;34m.\u001b[0m\u001b[0m_fit\u001b[0m\u001b[0;34m(\u001b[0m\u001b[0mdataset\u001b[0m\u001b[0;34m)\u001b[0m\u001b[0;34m\u001b[0m\u001b[0;34m\u001b[0m\u001b[0m\n\u001b[1;32m    204\u001b[0m             \u001b[0;32melse\u001b[0m\u001b[0;34m:\u001b[0m\u001b[0;34m\u001b[0m\u001b[0;34m\u001b[0m\u001b[0m\n\u001b[0;32m--> 205\u001b[0;31m                 \u001b[0;32mreturn\u001b[0m \u001b[0mself\u001b[0m\u001b[0;34m.\u001b[0m\u001b[0m_fit\u001b[0m\u001b[0;34m(\u001b[0m\u001b[0mdataset\u001b[0m\u001b[0;34m)\u001b[0m\u001b[0;34m\u001b[0m\u001b[0;34m\u001b[0m\u001b[0m\n\u001b[0m\u001b[1;32m    206\u001b[0m         \u001b[0;32melse\u001b[0m\u001b[0;34m:\u001b[0m\u001b[0;34m\u001b[0m\u001b[0;34m\u001b[0m\u001b[0m\n\u001b[1;32m    207\u001b[0m             raise TypeError(\n",
            "\u001b[0;32m/usr/local/lib/python3.7/dist-packages/pyspark/ml/wrapper.py\u001b[0m in \u001b[0;36m_fit\u001b[0;34m(self, dataset)\u001b[0m\n\u001b[1;32m    377\u001b[0m \u001b[0;34m\u001b[0m\u001b[0m\n\u001b[1;32m    378\u001b[0m     \u001b[0;32mdef\u001b[0m \u001b[0m_fit\u001b[0m\u001b[0;34m(\u001b[0m\u001b[0mself\u001b[0m\u001b[0;34m,\u001b[0m \u001b[0mdataset\u001b[0m\u001b[0;34m:\u001b[0m \u001b[0mDataFrame\u001b[0m\u001b[0;34m)\u001b[0m \u001b[0;34m->\u001b[0m \u001b[0mJM\u001b[0m\u001b[0;34m:\u001b[0m\u001b[0;34m\u001b[0m\u001b[0;34m\u001b[0m\u001b[0m\n\u001b[0;32m--> 379\u001b[0;31m         \u001b[0mjava_model\u001b[0m \u001b[0;34m=\u001b[0m \u001b[0mself\u001b[0m\u001b[0;34m.\u001b[0m\u001b[0m_fit_java\u001b[0m\u001b[0;34m(\u001b[0m\u001b[0mdataset\u001b[0m\u001b[0;34m)\u001b[0m\u001b[0;34m\u001b[0m\u001b[0;34m\u001b[0m\u001b[0m\n\u001b[0m\u001b[1;32m    380\u001b[0m         \u001b[0mmodel\u001b[0m \u001b[0;34m=\u001b[0m \u001b[0mself\u001b[0m\u001b[0;34m.\u001b[0m\u001b[0m_create_model\u001b[0m\u001b[0;34m(\u001b[0m\u001b[0mjava_model\u001b[0m\u001b[0;34m)\u001b[0m\u001b[0;34m\u001b[0m\u001b[0;34m\u001b[0m\u001b[0m\n\u001b[1;32m    381\u001b[0m         \u001b[0;32mreturn\u001b[0m \u001b[0mself\u001b[0m\u001b[0;34m.\u001b[0m\u001b[0m_copyValues\u001b[0m\u001b[0;34m(\u001b[0m\u001b[0mmodel\u001b[0m\u001b[0;34m)\u001b[0m\u001b[0;34m\u001b[0m\u001b[0;34m\u001b[0m\u001b[0m\n",
            "\u001b[0;32m/usr/local/lib/python3.7/dist-packages/pyspark/ml/wrapper.py\u001b[0m in \u001b[0;36m_fit_java\u001b[0;34m(self, dataset)\u001b[0m\n\u001b[1;32m    374\u001b[0m \u001b[0;34m\u001b[0m\u001b[0m\n\u001b[1;32m    375\u001b[0m         \u001b[0mself\u001b[0m\u001b[0;34m.\u001b[0m\u001b[0m_transfer_params_to_java\u001b[0m\u001b[0;34m(\u001b[0m\u001b[0;34m)\u001b[0m\u001b[0;34m\u001b[0m\u001b[0;34m\u001b[0m\u001b[0m\n\u001b[0;32m--> 376\u001b[0;31m         \u001b[0;32mreturn\u001b[0m \u001b[0mself\u001b[0m\u001b[0;34m.\u001b[0m\u001b[0m_java_obj\u001b[0m\u001b[0;34m.\u001b[0m\u001b[0mfit\u001b[0m\u001b[0;34m(\u001b[0m\u001b[0mdataset\u001b[0m\u001b[0;34m.\u001b[0m\u001b[0m_jdf\u001b[0m\u001b[0;34m)\u001b[0m\u001b[0;34m\u001b[0m\u001b[0;34m\u001b[0m\u001b[0m\n\u001b[0m\u001b[1;32m    377\u001b[0m \u001b[0;34m\u001b[0m\u001b[0m\n\u001b[1;32m    378\u001b[0m     \u001b[0;32mdef\u001b[0m \u001b[0m_fit\u001b[0m\u001b[0;34m(\u001b[0m\u001b[0mself\u001b[0m\u001b[0;34m,\u001b[0m \u001b[0mdataset\u001b[0m\u001b[0;34m:\u001b[0m \u001b[0mDataFrame\u001b[0m\u001b[0;34m)\u001b[0m \u001b[0;34m->\u001b[0m \u001b[0mJM\u001b[0m\u001b[0;34m:\u001b[0m\u001b[0;34m\u001b[0m\u001b[0;34m\u001b[0m\u001b[0m\n",
            "\u001b[0;32m/usr/local/lib/python3.7/dist-packages/py4j/java_gateway.py\u001b[0m in \u001b[0;36m__call__\u001b[0;34m(self, *args)\u001b[0m\n\u001b[1;32m   1320\u001b[0m         \u001b[0manswer\u001b[0m \u001b[0;34m=\u001b[0m \u001b[0mself\u001b[0m\u001b[0;34m.\u001b[0m\u001b[0mgateway_client\u001b[0m\u001b[0;34m.\u001b[0m\u001b[0msend_command\u001b[0m\u001b[0;34m(\u001b[0m\u001b[0mcommand\u001b[0m\u001b[0;34m)\u001b[0m\u001b[0;34m\u001b[0m\u001b[0;34m\u001b[0m\u001b[0m\n\u001b[1;32m   1321\u001b[0m         return_value = get_return_value(\n\u001b[0;32m-> 1322\u001b[0;31m             answer, self.gateway_client, self.target_id, self.name)\n\u001b[0m\u001b[1;32m   1323\u001b[0m \u001b[0;34m\u001b[0m\u001b[0m\n\u001b[1;32m   1324\u001b[0m         \u001b[0;32mfor\u001b[0m \u001b[0mtemp_arg\u001b[0m \u001b[0;32min\u001b[0m \u001b[0mtemp_args\u001b[0m\u001b[0;34m:\u001b[0m\u001b[0;34m\u001b[0m\u001b[0;34m\u001b[0m\u001b[0m\n",
            "\u001b[0;32m/usr/local/lib/python3.7/dist-packages/pyspark/sql/utils.py\u001b[0m in \u001b[0;36mdeco\u001b[0;34m(*a, **kw)\u001b[0m\n\u001b[1;32m    194\u001b[0m                 \u001b[0;31m# Hide where the exception came from that shows a non-Pythonic\u001b[0m\u001b[0;34m\u001b[0m\u001b[0;34m\u001b[0m\u001b[0;34m\u001b[0m\u001b[0m\n\u001b[1;32m    195\u001b[0m                 \u001b[0;31m# JVM exception message.\u001b[0m\u001b[0;34m\u001b[0m\u001b[0;34m\u001b[0m\u001b[0;34m\u001b[0m\u001b[0m\n\u001b[0;32m--> 196\u001b[0;31m                 \u001b[0;32mraise\u001b[0m \u001b[0mconverted\u001b[0m \u001b[0;32mfrom\u001b[0m \u001b[0;32mNone\u001b[0m\u001b[0;34m\u001b[0m\u001b[0;34m\u001b[0m\u001b[0m\n\u001b[0m\u001b[1;32m    197\u001b[0m             \u001b[0;32melse\u001b[0m\u001b[0;34m:\u001b[0m\u001b[0;34m\u001b[0m\u001b[0;34m\u001b[0m\u001b[0m\n\u001b[1;32m    198\u001b[0m                 \u001b[0;32mraise\u001b[0m\u001b[0;34m\u001b[0m\u001b[0;34m\u001b[0m\u001b[0m\n",
            "\u001b[0;31mIllegalArgumentException\u001b[0m: label does not exist. Available: DayOfWeek, DayOfWeek, PdDistrict, Resolution, X, Y, Category, DayOfWeek1, PdDistrict1, Resolution1, X1, Y1, Category1, features"
          ]
        }
      ]
    },
    {
      "cell_type": "code",
      "source": [],
      "metadata": {
        "id": "3s5eJ8W4vLLF"
      },
      "execution_count": null,
      "outputs": []
    }
  ]
}